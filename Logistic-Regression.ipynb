{
 "cells": [
  {
   "cell_type": "code",
   "execution_count": 1,
   "metadata": {},
   "outputs": [],
   "source": [
    "import numpy as np\n",
    "import pandas as pd\n",
    "from sklearn.model_selection import train_test_split\n",
    "from sklearn.metrics import confusion_matrix,roc_curve,roc_auc_score\n",
    "import statsmodels.api as sm\n",
    "import matplotlib.pyplot as plt\n",
    "df = pd.read_csv('C:\\\\Users\\\\nickh\\\\OneDrive - Northeastern University\\\\Notebooks\\\\DataMining\\\\Teamwork\\\\data\\\\bank-full.csv',sep=';')"
   ]
  },
  {
   "cell_type": "code",
   "execution_count": 2,
   "metadata": {},
   "outputs": [],
   "source": [
    "#create dummy variables for x \n",
    "x = pd.get_dummies(df.drop('y',axis=1),drop_first=True)\n",
    "\n",
    "#turn encode y into 0 or 1 and cast to float\n",
    "y = pd.get_dummies(df['y'],drop_first=True).astype(float)"
   ]
  },
  {
   "cell_type": "code",
   "execution_count": 3,
   "metadata": {},
   "outputs": [
    {
     "name": "stdout",
     "output_type": "stream",
     "text": [
      "<class 'pandas.core.frame.DataFrame'>\n",
      "RangeIndex: 45211 entries, 0 to 45210\n",
      "Data columns (total 17 columns):\n",
      " #   Column     Non-Null Count  Dtype \n",
      "---  ------     --------------  ----- \n",
      " 0   age        45211 non-null  int64 \n",
      " 1   job        45211 non-null  object\n",
      " 2   marital    45211 non-null  object\n",
      " 3   education  45211 non-null  object\n",
      " 4   default    45211 non-null  object\n",
      " 5   balance    45211 non-null  int64 \n",
      " 6   housing    45211 non-null  object\n",
      " 7   loan       45211 non-null  object\n",
      " 8   contact    45211 non-null  object\n",
      " 9   day        45211 non-null  int64 \n",
      " 10  month      45211 non-null  object\n",
      " 11  duration   45211 non-null  int64 \n",
      " 12  campaign   45211 non-null  int64 \n",
      " 13  pdays      45211 non-null  int64 \n",
      " 14  previous   45211 non-null  int64 \n",
      " 15  poutcome   45211 non-null  object\n",
      " 16  y          45211 non-null  object\n",
      "dtypes: int64(7), object(10)\n",
      "memory usage: 5.9+ MB\n"
     ]
    }
   ],
   "source": [
    "df.info()"
   ]
  },
  {
   "cell_type": "code",
   "execution_count": 4,
   "metadata": {},
   "outputs": [],
   "source": [
    "#80/20 split\n",
    "x = sm.add_constant(x)\n",
    "x_train,x_test,y_train,y_test=train_test_split(x,y,test_size=0.2)"
   ]
  },
  {
   "cell_type": "code",
   "execution_count": null,
   "metadata": {},
   "outputs": [],
   "source": []
  },
  {
   "cell_type": "code",
   "execution_count": 5,
   "metadata": {},
   "outputs": [
    {
     "name": "stdout",
     "output_type": "stream",
     "text": [
      "Optimization terminated successfully.\n",
      "         Current function value: 0.236190\n",
      "         Iterations 8\n"
     ]
    }
   ],
   "source": [
    "#add constant and train\n",
    "logit = sm.Logit(endog=y_train,exog=x_train).fit()"
   ]
  },
  {
   "cell_type": "code",
   "execution_count": 21,
   "metadata": {},
   "outputs": [
    {
     "data": {
      "text/html": [
       "<table class=\"simpletable\">\n",
       "<caption>Logit Regression Results</caption>\n",
       "<tr>\n",
       "  <th>Dep. Variable:</th>          <td>yes</td>       <th>  No. Observations:  </th>  <td> 36168</td> \n",
       "</tr>\n",
       "<tr>\n",
       "  <th>Model:</th>                 <td>Logit</td>      <th>  Df Residuals:      </th>  <td> 36125</td> \n",
       "</tr>\n",
       "<tr>\n",
       "  <th>Method:</th>                 <td>MLE</td>       <th>  Df Model:          </th>  <td>    42</td> \n",
       "</tr>\n",
       "<tr>\n",
       "  <th>Date:</th>            <td>Sat, 30 Jan 2021</td> <th>  Pseudo R-squ.:     </th>  <td>0.3373</td> \n",
       "</tr>\n",
       "<tr>\n",
       "  <th>Time:</th>                <td>22:12:27</td>     <th>  Log-Likelihood:    </th> <td> -8637.0</td>\n",
       "</tr>\n",
       "<tr>\n",
       "  <th>converged:</th>             <td>True</td>       <th>  LL-Null:           </th> <td> -13034.</td>\n",
       "</tr>\n",
       "<tr>\n",
       "  <th>Covariance Type:</th>     <td>nonrobust</td>    <th>  LLR p-value:       </th>  <td> 0.000</td> \n",
       "</tr>\n",
       "</table>\n",
       "<table class=\"simpletable\">\n",
       "<tr>\n",
       "           <td></td>              <th>coef</th>     <th>std err</th>      <th>z</th>      <th>P>|z|</th>  <th>[0.025</th>    <th>0.975]</th>  \n",
       "</tr>\n",
       "<tr>\n",
       "  <th>const</th>               <td>   -2.4050</td> <td>    0.205</td> <td>  -11.709</td> <td> 0.000</td> <td>   -2.808</td> <td>   -2.002</td>\n",
       "</tr>\n",
       "<tr>\n",
       "  <th>age</th>                 <td>   -0.0008</td> <td>    0.002</td> <td>   -0.334</td> <td> 0.738</td> <td>   -0.006</td> <td>    0.004</td>\n",
       "</tr>\n",
       "<tr>\n",
       "  <th>balance</th>             <td> 1.677e-05</td> <td> 5.59e-06</td> <td>    2.998</td> <td> 0.003</td> <td> 5.81e-06</td> <td> 2.77e-05</td>\n",
       "</tr>\n",
       "<tr>\n",
       "  <th>day</th>                 <td>    0.0125</td> <td>    0.003</td> <td>    4.492</td> <td> 0.000</td> <td>    0.007</td> <td>    0.018</td>\n",
       "</tr>\n",
       "<tr>\n",
       "  <th>duration</th>            <td>    0.0042</td> <td> 7.24e-05</td> <td>   57.766</td> <td> 0.000</td> <td>    0.004</td> <td>    0.004</td>\n",
       "</tr>\n",
       "<tr>\n",
       "  <th>campaign</th>            <td>   -0.0967</td> <td>    0.011</td> <td>   -8.533</td> <td> 0.000</td> <td>   -0.119</td> <td>   -0.075</td>\n",
       "</tr>\n",
       "<tr>\n",
       "  <th>pdays</th>               <td>   -0.0003</td> <td>    0.000</td> <td>   -1.007</td> <td> 0.314</td> <td>   -0.001</td> <td>    0.000</td>\n",
       "</tr>\n",
       "<tr>\n",
       "  <th>previous</th>            <td>    0.0083</td> <td>    0.006</td> <td>    1.290</td> <td> 0.197</td> <td>   -0.004</td> <td>    0.021</td>\n",
       "</tr>\n",
       "<tr>\n",
       "  <th>job_blue-collar</th>     <td>   -0.3045</td> <td>    0.081</td> <td>   -3.749</td> <td> 0.000</td> <td>   -0.464</td> <td>   -0.145</td>\n",
       "</tr>\n",
       "<tr>\n",
       "  <th>job_entrepreneur</th>    <td>   -0.2868</td> <td>    0.138</td> <td>   -2.082</td> <td> 0.037</td> <td>   -0.557</td> <td>   -0.017</td>\n",
       "</tr>\n",
       "<tr>\n",
       "  <th>job_housemaid</th>       <td>   -0.5386</td> <td>    0.151</td> <td>   -3.558</td> <td> 0.000</td> <td>   -0.835</td> <td>   -0.242</td>\n",
       "</tr>\n",
       "<tr>\n",
       "  <th>job_management</th>      <td>   -0.2185</td> <td>    0.082</td> <td>   -2.659</td> <td> 0.008</td> <td>   -0.380</td> <td>   -0.057</td>\n",
       "</tr>\n",
       "<tr>\n",
       "  <th>job_retired</th>         <td>    0.2012</td> <td>    0.109</td> <td>    1.846</td> <td> 0.065</td> <td>   -0.012</td> <td>    0.415</td>\n",
       "</tr>\n",
       "<tr>\n",
       "  <th>job_self-employed</th>   <td>   -0.3136</td> <td>    0.125</td> <td>   -2.500</td> <td> 0.012</td> <td>   -0.559</td> <td>   -0.068</td>\n",
       "</tr>\n",
       "<tr>\n",
       "  <th>job_services</th>        <td>   -0.1867</td> <td>    0.093</td> <td>   -2.002</td> <td> 0.045</td> <td>   -0.369</td> <td>   -0.004</td>\n",
       "</tr>\n",
       "<tr>\n",
       "  <th>job_student</th>         <td>    0.3409</td> <td>    0.122</td> <td>    2.791</td> <td> 0.005</td> <td>    0.101</td> <td>    0.580</td>\n",
       "</tr>\n",
       "<tr>\n",
       "  <th>job_technician</th>      <td>   -0.2079</td> <td>    0.077</td> <td>   -2.691</td> <td> 0.007</td> <td>   -0.359</td> <td>   -0.056</td>\n",
       "</tr>\n",
       "<tr>\n",
       "  <th>job_unemployed</th>      <td>   -0.2943</td> <td>    0.127</td> <td>   -2.315</td> <td> 0.021</td> <td>   -0.544</td> <td>   -0.045</td>\n",
       "</tr>\n",
       "<tr>\n",
       "  <th>job_unknown</th>         <td>   -0.4175</td> <td>    0.272</td> <td>   -1.535</td> <td> 0.125</td> <td>   -0.951</td> <td>    0.116</td>\n",
       "</tr>\n",
       "<tr>\n",
       "  <th>marital_married</th>     <td>   -0.1820</td> <td>    0.066</td> <td>   -2.751</td> <td> 0.006</td> <td>   -0.312</td> <td>   -0.052</td>\n",
       "</tr>\n",
       "<tr>\n",
       "  <th>marital_single</th>      <td>    0.1065</td> <td>    0.076</td> <td>    1.409</td> <td> 0.159</td> <td>   -0.042</td> <td>    0.255</td>\n",
       "</tr>\n",
       "<tr>\n",
       "  <th>education_secondary</th> <td>    0.0962</td> <td>    0.071</td> <td>    1.346</td> <td> 0.178</td> <td>   -0.044</td> <td>    0.236</td>\n",
       "</tr>\n",
       "<tr>\n",
       "  <th>education_tertiary</th>  <td>    0.3168</td> <td>    0.083</td> <td>    3.799</td> <td> 0.000</td> <td>    0.153</td> <td>    0.480</td>\n",
       "</tr>\n",
       "<tr>\n",
       "  <th>education_unknown</th>   <td>    0.2023</td> <td>    0.116</td> <td>    1.745</td> <td> 0.081</td> <td>   -0.025</td> <td>    0.430</td>\n",
       "</tr>\n",
       "<tr>\n",
       "  <th>default_yes</th>         <td>   -0.0473</td> <td>    0.190</td> <td>   -0.249</td> <td> 0.804</td> <td>   -0.420</td> <td>    0.325</td>\n",
       "</tr>\n",
       "<tr>\n",
       "  <th>housing_yes</th>         <td>   -0.6523</td> <td>    0.049</td> <td>  -13.373</td> <td> 0.000</td> <td>   -0.748</td> <td>   -0.557</td>\n",
       "</tr>\n",
       "<tr>\n",
       "  <th>loan_yes</th>            <td>   -0.4486</td> <td>    0.067</td> <td>   -6.688</td> <td> 0.000</td> <td>   -0.580</td> <td>   -0.317</td>\n",
       "</tr>\n",
       "<tr>\n",
       "  <th>contact_telephone</th>   <td>   -0.1013</td> <td>    0.082</td> <td>   -1.229</td> <td> 0.219</td> <td>   -0.263</td> <td>    0.060</td>\n",
       "</tr>\n",
       "<tr>\n",
       "  <th>contact_unknown</th>     <td>   -1.6406</td> <td>    0.082</td> <td>  -19.980</td> <td> 0.000</td> <td>   -1.802</td> <td>   -1.480</td>\n",
       "</tr>\n",
       "<tr>\n",
       "  <th>month_aug</th>           <td>   -0.6543</td> <td>    0.088</td> <td>   -7.439</td> <td> 0.000</td> <td>   -0.827</td> <td>   -0.482</td>\n",
       "</tr>\n",
       "<tr>\n",
       "  <th>month_dec</th>           <td>    0.8316</td> <td>    0.193</td> <td>    4.318</td> <td> 0.000</td> <td>    0.454</td> <td>    1.209</td>\n",
       "</tr>\n",
       "<tr>\n",
       "  <th>month_feb</th>           <td>   -0.0588</td> <td>    0.100</td> <td>   -0.589</td> <td> 0.556</td> <td>   -0.254</td> <td>    0.137</td>\n",
       "</tr>\n",
       "<tr>\n",
       "  <th>month_jan</th>           <td>   -1.2385</td> <td>    0.137</td> <td>   -9.054</td> <td> 0.000</td> <td>   -1.507</td> <td>   -0.970</td>\n",
       "</tr>\n",
       "<tr>\n",
       "  <th>month_jul</th>           <td>   -0.7709</td> <td>    0.086</td> <td>   -8.941</td> <td> 0.000</td> <td>   -0.940</td> <td>   -0.602</td>\n",
       "</tr>\n",
       "<tr>\n",
       "  <th>month_jun</th>           <td>    0.4839</td> <td>    0.105</td> <td>    4.616</td> <td> 0.000</td> <td>    0.278</td> <td>    0.689</td>\n",
       "</tr>\n",
       "<tr>\n",
       "  <th>month_mar</th>           <td>    1.5978</td> <td>    0.136</td> <td>   11.713</td> <td> 0.000</td> <td>    1.330</td> <td>    1.865</td>\n",
       "</tr>\n",
       "<tr>\n",
       "  <th>month_may</th>           <td>   -0.3819</td> <td>    0.081</td> <td>   -4.706</td> <td> 0.000</td> <td>   -0.541</td> <td>   -0.223</td>\n",
       "</tr>\n",
       "<tr>\n",
       "  <th>month_nov</th>           <td>   -0.8903</td> <td>    0.095</td> <td>   -9.417</td> <td> 0.000</td> <td>   -1.076</td> <td>   -0.705</td>\n",
       "</tr>\n",
       "<tr>\n",
       "  <th>month_oct</th>           <td>    0.8709</td> <td>    0.120</td> <td>    7.261</td> <td> 0.000</td> <td>    0.636</td> <td>    1.106</td>\n",
       "</tr>\n",
       "<tr>\n",
       "  <th>month_sep</th>           <td>    0.8376</td> <td>    0.135</td> <td>    6.222</td> <td> 0.000</td> <td>    0.574</td> <td>    1.101</td>\n",
       "</tr>\n",
       "<tr>\n",
       "  <th>poutcome_other</th>      <td>    0.1727</td> <td>    0.102</td> <td>    1.695</td> <td> 0.090</td> <td>   -0.027</td> <td>    0.372</td>\n",
       "</tr>\n",
       "<tr>\n",
       "  <th>poutcome_success</th>    <td>    2.2956</td> <td>    0.092</td> <td>   25.087</td> <td> 0.000</td> <td>    2.116</td> <td>    2.475</td>\n",
       "</tr>\n",
       "<tr>\n",
       "  <th>poutcome_unknown</th>    <td>   -0.1605</td> <td>    0.104</td> <td>   -1.543</td> <td> 0.123</td> <td>   -0.364</td> <td>    0.043</td>\n",
       "</tr>\n",
       "</table>"
      ],
      "text/plain": [
       "<class 'statsmodels.iolib.summary.Summary'>\n",
       "\"\"\"\n",
       "                           Logit Regression Results                           \n",
       "==============================================================================\n",
       "Dep. Variable:                    yes   No. Observations:                36168\n",
       "Model:                          Logit   Df Residuals:                    36125\n",
       "Method:                           MLE   Df Model:                           42\n",
       "Date:                Sat, 30 Jan 2021   Pseudo R-squ.:                  0.3373\n",
       "Time:                        22:12:27   Log-Likelihood:                -8637.0\n",
       "converged:                       True   LL-Null:                       -13034.\n",
       "Covariance Type:            nonrobust   LLR p-value:                     0.000\n",
       "=======================================================================================\n",
       "                          coef    std err          z      P>|z|      [0.025      0.975]\n",
       "---------------------------------------------------------------------------------------\n",
       "const                  -2.4050      0.205    -11.709      0.000      -2.808      -2.002\n",
       "age                    -0.0008      0.002     -0.334      0.738      -0.006       0.004\n",
       "balance              1.677e-05   5.59e-06      2.998      0.003    5.81e-06    2.77e-05\n",
       "day                     0.0125      0.003      4.492      0.000       0.007       0.018\n",
       "duration                0.0042   7.24e-05     57.766      0.000       0.004       0.004\n",
       "campaign               -0.0967      0.011     -8.533      0.000      -0.119      -0.075\n",
       "pdays                  -0.0003      0.000     -1.007      0.314      -0.001       0.000\n",
       "previous                0.0083      0.006      1.290      0.197      -0.004       0.021\n",
       "job_blue-collar        -0.3045      0.081     -3.749      0.000      -0.464      -0.145\n",
       "job_entrepreneur       -0.2868      0.138     -2.082      0.037      -0.557      -0.017\n",
       "job_housemaid          -0.5386      0.151     -3.558      0.000      -0.835      -0.242\n",
       "job_management         -0.2185      0.082     -2.659      0.008      -0.380      -0.057\n",
       "job_retired             0.2012      0.109      1.846      0.065      -0.012       0.415\n",
       "job_self-employed      -0.3136      0.125     -2.500      0.012      -0.559      -0.068\n",
       "job_services           -0.1867      0.093     -2.002      0.045      -0.369      -0.004\n",
       "job_student             0.3409      0.122      2.791      0.005       0.101       0.580\n",
       "job_technician         -0.2079      0.077     -2.691      0.007      -0.359      -0.056\n",
       "job_unemployed         -0.2943      0.127     -2.315      0.021      -0.544      -0.045\n",
       "job_unknown            -0.4175      0.272     -1.535      0.125      -0.951       0.116\n",
       "marital_married        -0.1820      0.066     -2.751      0.006      -0.312      -0.052\n",
       "marital_single          0.1065      0.076      1.409      0.159      -0.042       0.255\n",
       "education_secondary     0.0962      0.071      1.346      0.178      -0.044       0.236\n",
       "education_tertiary      0.3168      0.083      3.799      0.000       0.153       0.480\n",
       "education_unknown       0.2023      0.116      1.745      0.081      -0.025       0.430\n",
       "default_yes            -0.0473      0.190     -0.249      0.804      -0.420       0.325\n",
       "housing_yes            -0.6523      0.049    -13.373      0.000      -0.748      -0.557\n",
       "loan_yes               -0.4486      0.067     -6.688      0.000      -0.580      -0.317\n",
       "contact_telephone      -0.1013      0.082     -1.229      0.219      -0.263       0.060\n",
       "contact_unknown        -1.6406      0.082    -19.980      0.000      -1.802      -1.480\n",
       "month_aug              -0.6543      0.088     -7.439      0.000      -0.827      -0.482\n",
       "month_dec               0.8316      0.193      4.318      0.000       0.454       1.209\n",
       "month_feb              -0.0588      0.100     -0.589      0.556      -0.254       0.137\n",
       "month_jan              -1.2385      0.137     -9.054      0.000      -1.507      -0.970\n",
       "month_jul              -0.7709      0.086     -8.941      0.000      -0.940      -0.602\n",
       "month_jun               0.4839      0.105      4.616      0.000       0.278       0.689\n",
       "month_mar               1.5978      0.136     11.713      0.000       1.330       1.865\n",
       "month_may              -0.3819      0.081     -4.706      0.000      -0.541      -0.223\n",
       "month_nov              -0.8903      0.095     -9.417      0.000      -1.076      -0.705\n",
       "month_oct               0.8709      0.120      7.261      0.000       0.636       1.106\n",
       "month_sep               0.8376      0.135      6.222      0.000       0.574       1.101\n",
       "poutcome_other          0.1727      0.102      1.695      0.090      -0.027       0.372\n",
       "poutcome_success        2.2956      0.092     25.087      0.000       2.116       2.475\n",
       "poutcome_unknown       -0.1605      0.104     -1.543      0.123      -0.364       0.043\n",
       "=======================================================================================\n",
       "\"\"\""
      ]
     },
     "execution_count": 21,
     "metadata": {},
     "output_type": "execute_result"
    }
   ],
   "source": [
    "logit.summary()\n"
   ]
  },
  {
   "cell_type": "code",
   "execution_count": null,
   "metadata": {},
   "outputs": [],
   "source": []
  },
  {
   "cell_type": "code",
   "execution_count": 22,
   "metadata": {},
   "outputs": [
    {
     "name": "stdout",
     "output_type": "stream",
     "text": [
      "const                 0.0000\n",
      "balance               0.0027\n",
      "day                   0.0000\n",
      "duration              0.0000\n",
      "campaign              0.0000\n",
      "job_blue-collar       0.0002\n",
      "job_entrepreneur      0.0373\n",
      "job_housemaid         0.0004\n",
      "job_management        0.0078\n",
      "job_retired           0.0649\n",
      "job_self-employed     0.0124\n",
      "job_services          0.0453\n",
      "job_student           0.0053\n",
      "job_technician        0.0071\n",
      "job_unemployed        0.0206\n",
      "marital_married       0.0059\n",
      "education_tertiary    0.0001\n",
      "education_unknown     0.0811\n",
      "housing_yes           0.0000\n",
      "loan_yes              0.0000\n",
      "contact_unknown       0.0000\n",
      "month_aug             0.0000\n",
      "month_dec             0.0000\n",
      "month_jan             0.0000\n",
      "month_jul             0.0000\n",
      "month_jun             0.0000\n",
      "month_mar             0.0000\n",
      "month_may             0.0000\n",
      "month_nov             0.0000\n",
      "month_oct             0.0000\n",
      "month_sep             0.0000\n",
      "poutcome_other        0.0901\n",
      "poutcome_success      0.0000\n",
      "dtype: float64\n"
     ]
    }
   ],
   "source": [
    "#look at values to include less than 0.1 specifically p-value near 0.05\n",
    "var_include = round(logit.pvalues[logit.pvalues < 0.1],4)\n",
    "print(var_include)"
   ]
  },
  {
   "cell_type": "code",
   "execution_count": 23,
   "metadata": {},
   "outputs": [
    {
     "data": {
      "text/plain": [
       "const                 0.090267\n",
       "balance               1.000017\n",
       "day                   1.012582\n",
       "duration              1.004193\n",
       "campaign              0.907795\n",
       "job_blue-collar       0.737461\n",
       "job_entrepreneur      0.750672\n",
       "job_housemaid         0.583540\n",
       "job_management        0.803699\n",
       "job_retired           1.222891\n",
       "job_self-employed     0.730831\n",
       "job_services          0.829687\n",
       "job_student           1.406180\n",
       "job_technician        0.812252\n",
       "job_unemployed        0.745036\n",
       "marital_married       0.833564\n",
       "education_tertiary    1.372739\n",
       "education_unknown     1.224194\n",
       "housing_yes           0.520835\n",
       "loan_yes              0.638505\n",
       "contact_unknown       0.193862\n",
       "month_aug             0.519820\n",
       "month_dec             2.297103\n",
       "month_jan             0.289824\n",
       "month_jul             0.462617\n",
       "month_jun             1.622361\n",
       "month_mar             4.942215\n",
       "month_may             0.682573\n",
       "month_nov             0.410547\n",
       "month_oct             2.389040\n",
       "month_sep             2.310772\n",
       "poutcome_other        1.188497\n",
       "poutcome_success      9.930495\n",
       "dtype: float64"
      ]
     },
     "execution_count": 23,
     "metadata": {},
     "output_type": "execute_result"
    }
   ],
   "source": [
    "#raise the log odd coef by base e\n",
    "np.exp(logit.params[var_include.index])"
   ]
  },
  {
   "cell_type": "code",
   "execution_count": 24,
   "metadata": {},
   "outputs": [
    {
     "data": {
      "text/plain": [
       "29727    0.056221\n",
       "29701    0.107332\n",
       "41394    0.586792\n",
       "19944    0.043660\n",
       "4995     0.015061\n",
       "           ...   \n",
       "3627     0.027476\n",
       "31741    0.045004\n",
       "22846    0.258299\n",
       "30552    0.190518\n",
       "21494    0.033916\n",
       "Length: 9043, dtype: float64"
      ]
     },
     "execution_count": 24,
     "metadata": {},
     "output_type": "execute_result"
    }
   ],
   "source": [
    "logit.predict(x_test)"
   ]
  },
  {
   "cell_type": "code",
   "execution_count": 25,
   "metadata": {},
   "outputs": [
    {
     "ename": "NameError",
     "evalue": "name 'optimal_proba_cutoff' is not defined",
     "output_type": "error",
     "traceback": [
      "\u001b[1;31m---------------------------------------------------------------------------\u001b[0m",
      "\u001b[1;31mNameError\u001b[0m                                 Traceback (most recent call last)",
      "\u001b[1;32m<ipython-input-25-1165c76d6434>\u001b[0m in \u001b[0;36m<module>\u001b[1;34m\u001b[0m\n\u001b[1;32m----> 1\u001b[1;33m \u001b[0mlogit\u001b[0m\u001b[1;33m.\u001b[0m\u001b[0mpred_table\u001b[0m\u001b[1;33m(\u001b[0m\u001b[0moptimal_proba_cutoff\u001b[0m\u001b[1;33m)\u001b[0m\u001b[1;33m\u001b[0m\u001b[1;33m\u001b[0m\u001b[0m\n\u001b[0m",
      "\u001b[1;31mNameError\u001b[0m: name 'optimal_proba_cutoff' is not defined"
     ]
    }
   ],
   "source": [
    "logit.pred_table(optimal_proba_cutoff)"
   ]
  },
  {
   "cell_type": "code",
   "execution_count": 32,
   "metadata": {},
   "outputs": [
    {
     "data": {
      "text/plain": [
       "<matplotlib.legend.Legend at 0x232ca1d80d0>"
      ]
     },
     "execution_count": 32,
     "metadata": {},
     "output_type": "execute_result"
    },
    {
     "data": {
      "image/png": "[encoded data removed]",
      "text/plain": [
       "<Figure size 432x288 with 1 Axes>"
      ]
     },
     "metadata": {
      "needs_background": "light"
     },
     "output_type": "display_data"
    }
   ],
   "source": [
    "false_pos_rate, true_pos_rate, proba= metrics.roc_curve(y_test, logit.predict(x_test))\n",
    "plt.figure()\n",
    "plt.plot([0,1], [0,1], linestyle=\"--\") # plot random curve\n",
    "plt.plot(false_pos_rate, true_pos_rate, marker=\".\", label=f\"AUC = {roc_auc_score(y_test, logit.predict(x_test))}\")\n",
    "plt.title(\"ROC Curve\")\n",
    "plt.ylabel(\"True Positive Rate\")\n",
    "plt.xlabel(\"False Positive Rate\")\n",
    "plt.legend(loc=\"lower right\")"
   ]
  },
  {
   "cell_type": "code",
   "execution_count": 33,
   "metadata": {},
   "outputs": [
    {
     "name": "stdout",
     "output_type": "stream",
     "text": [
      "0.11172114638248809\n"
     ]
    }
   ],
   "source": [
    "optimal_proba_cutoff = sorted(list(zip(np.abs(true_pos_rate - false_pos_rate), proba)), key=lambda i: i[0], reverse=True)[0][1]\n",
    "roc_predictions = [1 if i >= optimal_proba_cutoff else 0 for i in logit.predict(x_test)]\n",
    "print(optimal_proba_cutoff)"
   ]
  },
  {
   "cell_type": "code",
   "execution_count": null,
   "metadata": {},
   "outputs": [],
   "source": [
    "confusion_matrix(y_test,roc_predictions)"
   ]
  }
 ],
 "metadata": {
  "celltoolbar": "Attachments",
  "kernelspec": {
   "display_name": "Python 3",
   "language": "python",
   "name": "python3"
  },
  "language_info": {
   "codemirror_mode": {
    "name": "ipython",
    "version": 3
   },
   "file_extension": ".py",
   "mimetype": "text/x-python",
   "name": "python",
   "nbconvert_exporter": "python",
   "pygments_lexer": "ipython3",
   "version": "3.8.3"
  }
 },
 "nbformat": 4,
 "nbformat_minor": 4
}
